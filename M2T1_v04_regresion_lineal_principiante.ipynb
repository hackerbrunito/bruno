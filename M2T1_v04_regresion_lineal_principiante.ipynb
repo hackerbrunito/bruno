{
  "cells": [
    {
      "cell_type": "markdown",
      "metadata": {
        "id": "view-in-github",
        "colab_type": "text"
      },
      "source": [
        "<a href=\"https://colab.research.google.com/github/hackerbrunito/bruno/blob/brunitoshack01/M2T1_v04_regresion_lineal_principiante.ipynb\" target=\"_parent\"><img src=\"https://colab.research.google.com/assets/colab-badge.svg\" alt=\"Open In Colab\"/></a>"
      ]
    },
    {
      "cell_type": "markdown",
      "metadata": {
        "id": "jSb5lijrwIUs"
      },
      "source": [
        "## Ejercicio de Regresión Lineal\n",
        "### ***Predicción de Precios de Viviendas***\n",
        "\n",
        "---\n",
        "\n",
        "\n",
        "\n",
        "Este notebook implementa un modelo básico de regresión lineal para predecir el precio de viviendas según sus metros cuadrados.\n",
        "\n",
        "---\n",
        "\n"
      ]
    },
    {
      "cell_type": "code",
      "execution_count": 1,
      "metadata": {
        "id": "YHTS6mpewIUv"
      },
      "source": [
        "# Importamos las bibliotecas necesarias\n",
        "import numpy as np  # NumPy: biblioteca para operaciones numéricas y arrays\n",
        "import pandas as pd  # Pandas: manipulación y análisis de datos tabulares\n",
        "import matplotlib.pyplot as plt  # Matplotlib: visualización de datos\n",
        "from sklearn.model_selection import train_test_split  # Para dividir datos en entrenamiento/prueba\n",
        "from sklearn.linear_model import LinearRegression  # Algoritmo de regresión lineal\n",
        "from sklearn.metrics import mean_squared_error, r2_score  # Métricas de evaluación\n",
        "\n",
        "# Para reproducibilidad\n",
        "np.random.seed(42)"
      ],
      "outputs": []
    },
    {
      "cell_type": "markdown",
      "metadata": {
        "id": "1B_AkZQ3wIUv"
      },
      "source": [
        "### 1. Crear el dataset de viviendas"
      ]
    },
    {
      "cell_type": "code",
      "execution_count": 2,
      "metadata": {
        "id": "cTBUggiewIUw",
        "colab": {
          "base_uri": "https://localhost:8080/",
          "height": 363
        },
        "outputId": "f06568da-59a3-4a06-a20d-7d7dde53b85c"
      },
      "source": [
        "# Generar 50 valores aleatorios (representan 50 viviendas) de entre 60 y 200 metros cuadrados.\n",
        "metros_cuadrados = np.sort(np.random.randint(60, 200, 50))\n",
        "\n",
        "# Generar precios. Establece una relación lineal entre metros cuadrados y precio.\n",
        "precio_base = 100000    # Precio inicial/mínimo de cualquier vivienda.\n",
        "precio_m2 = 1500        # Incremento de precio por cada metro cuadrado adicional.\n",
        "ruido = np.random.randint(-40000, 40000, 50)  # Variabilidad aleatoria (simula otros factores como ubicación, con vistas, orientación, acabados, etc).\n",
        "\n",
        "# Calcular el precio final con la fórmula \"precio_base + (precio_por_m2 × metros) + ruido\".\n",
        "precio = precio_base + (precio_m2 * metros_cuadrados) + ruido\n",
        "precio = np.maximum(precio, 100000)   # precio mínimo. Asegura que ningún precio sea menor a 100,000€.\n",
        "\n",
        "# Crear el DataFrame con los datos creados \"metros_cuadrados\" y \"precio\".\n",
        "casas_datos = pd.DataFrame({\n",
        "    'metros_cuadrados': metros_cuadrados,\n",
        "    'precio': precio\n",
        "})\n",
        "\n",
        "# Mostrar las primeras filas\n",
        "casas_datos.head(10)"
      ],
      "outputs": [
        {
          "output_type": "execute_result",
          "data": {
            "text/plain": [
              "   metros_cuadrados  precio\n",
              "0                61  218621\n",
              "1                67  229979\n",
              "2                68  181457\n",
              "3                73  236057\n",
              "4                74  248189\n",
              "5                74  249953\n",
              "6                77  228495\n",
              "7                80  220757\n",
              "8                80  189692\n",
              "9                80  225758"
            ],
            "text/html": [
              "\n",
              "  <div id=\"df-cbcb52a7-fc97-47fd-a0e8-55a55c486f1e\" class=\"colab-df-container\">\n",
              "    <div>\n",
              "<style scoped>\n",
              "    .dataframe tbody tr th:only-of-type {\n",
              "        vertical-align: middle;\n",
              "    }\n",
              "\n",
              "    .dataframe tbody tr th {\n",
              "        vertical-align: top;\n",
              "    }\n",
              "\n",
              "    .dataframe thead th {\n",
              "        text-align: right;\n",
              "    }\n",
              "</style>\n",
              "<table border=\"1\" class=\"dataframe\">\n",
              "  <thead>\n",
              "    <tr style=\"text-align: right;\">\n",
              "      <th></th>\n",
              "      <th>metros_cuadrados</th>\n",
              "      <th>precio</th>\n",
              "    </tr>\n",
              "  </thead>\n",
              "  <tbody>\n",
              "    <tr>\n",
              "      <th>0</th>\n",
              "      <td>61</td>\n",
              "      <td>218621</td>\n",
              "    </tr>\n",
              "    <tr>\n",
              "      <th>1</th>\n",
              "      <td>67</td>\n",
              "      <td>229979</td>\n",
              "    </tr>\n",
              "    <tr>\n",
              "      <th>2</th>\n",
              "      <td>68</td>\n",
              "      <td>181457</td>\n",
              "    </tr>\n",
              "    <tr>\n",
              "      <th>3</th>\n",
              "      <td>73</td>\n",
              "      <td>236057</td>\n",
              "    </tr>\n",
              "    <tr>\n",
              "      <th>4</th>\n",
              "      <td>74</td>\n",
              "      <td>248189</td>\n",
              "    </tr>\n",
              "    <tr>\n",
              "      <th>5</th>\n",
              "      <td>74</td>\n",
              "      <td>249953</td>\n",
              "    </tr>\n",
              "    <tr>\n",
              "      <th>6</th>\n",
              "      <td>77</td>\n",
              "      <td>228495</td>\n",
              "    </tr>\n",
              "    <tr>\n",
              "      <th>7</th>\n",
              "      <td>80</td>\n",
              "      <td>220757</td>\n",
              "    </tr>\n",
              "    <tr>\n",
              "      <th>8</th>\n",
              "      <td>80</td>\n",
              "      <td>189692</td>\n",
              "    </tr>\n",
              "    <tr>\n",
              "      <th>9</th>\n",
              "      <td>80</td>\n",
              "      <td>225758</td>\n",
              "    </tr>\n",
              "  </tbody>\n",
              "</table>\n",
              "</div>\n",
              "    <div class=\"colab-df-buttons\">\n",
              "\n",
              "  <div class=\"colab-df-container\">\n",
              "    <button class=\"colab-df-convert\" onclick=\"convertToInteractive('df-cbcb52a7-fc97-47fd-a0e8-55a55c486f1e')\"\n",
              "            title=\"Convert this dataframe to an interactive table.\"\n",
              "            style=\"display:none;\">\n",
              "\n",
              "  <svg xmlns=\"http://www.w3.org/2000/svg\" height=\"24px\" viewBox=\"0 -960 960 960\">\n",
              "    <path d=\"M120-120v-720h720v720H120Zm60-500h600v-160H180v160Zm220 220h160v-160H400v160Zm0 220h160v-160H400v160ZM180-400h160v-160H180v160Zm440 0h160v-160H620v160ZM180-180h160v-160H180v160Zm440 0h160v-160H620v160Z\"/>\n",
              "  </svg>\n",
              "    </button>\n",
              "\n",
              "  <style>\n",
              "    .colab-df-container {\n",
              "      display:flex;\n",
              "      gap: 12px;\n",
              "    }\n",
              "\n",
              "    .colab-df-convert {\n",
              "      background-color: #E8F0FE;\n",
              "      border: none;\n",
              "      border-radius: 50%;\n",
              "      cursor: pointer;\n",
              "      display: none;\n",
              "      fill: #1967D2;\n",
              "      height: 32px;\n",
              "      padding: 0 0 0 0;\n",
              "      width: 32px;\n",
              "    }\n",
              "\n",
              "    .colab-df-convert:hover {\n",
              "      background-color: #E2EBFA;\n",
              "      box-shadow: 0px 1px 2px rgba(60, 64, 67, 0.3), 0px 1px 3px 1px rgba(60, 64, 67, 0.15);\n",
              "      fill: #174EA6;\n",
              "    }\n",
              "\n",
              "    .colab-df-buttons div {\n",
              "      margin-bottom: 4px;\n",
              "    }\n",
              "\n",
              "    [theme=dark] .colab-df-convert {\n",
              "      background-color: #3B4455;\n",
              "      fill: #D2E3FC;\n",
              "    }\n",
              "\n",
              "    [theme=dark] .colab-df-convert:hover {\n",
              "      background-color: #434B5C;\n",
              "      box-shadow: 0px 1px 3px 1px rgba(0, 0, 0, 0.15);\n",
              "      filter: drop-shadow(0px 1px 2px rgba(0, 0, 0, 0.3));\n",
              "      fill: #FFFFFF;\n",
              "    }\n",
              "  </style>\n",
              "\n",
              "    <script>\n",
              "      const buttonEl =\n",
              "        document.querySelector('#df-cbcb52a7-fc97-47fd-a0e8-55a55c486f1e button.colab-df-convert');\n",
              "      buttonEl.style.display =\n",
              "        google.colab.kernel.accessAllowed ? 'block' : 'none';\n",
              "\n",
              "      async function convertToInteractive(key) {\n",
              "        const element = document.querySelector('#df-cbcb52a7-fc97-47fd-a0e8-55a55c486f1e');\n",
              "        const dataTable =\n",
              "          await google.colab.kernel.invokeFunction('convertToInteractive',\n",
              "                                                    [key], {});\n",
              "        if (!dataTable) return;\n",
              "\n",
              "        const docLinkHtml = 'Like what you see? Visit the ' +\n",
              "          '<a target=\"_blank\" href=https://colab.research.google.com/notebooks/data_table.ipynb>data table notebook</a>'\n",
              "          + ' to learn more about interactive tables.';\n",
              "        element.innerHTML = '';\n",
              "        dataTable['output_type'] = 'display_data';\n",
              "        await google.colab.output.renderOutput(dataTable, element);\n",
              "        const docLink = document.createElement('div');\n",
              "        docLink.innerHTML = docLinkHtml;\n",
              "        element.appendChild(docLink);\n",
              "      }\n",
              "    </script>\n",
              "  </div>\n",
              "\n",
              "\n",
              "<div id=\"df-65de2fb6-40c3-41d1-98a9-5ad242d57ea0\">\n",
              "  <button class=\"colab-df-quickchart\" onclick=\"quickchart('df-65de2fb6-40c3-41d1-98a9-5ad242d57ea0')\"\n",
              "            title=\"Suggest charts\"\n",
              "            style=\"display:none;\">\n",
              "\n",
              "<svg xmlns=\"http://www.w3.org/2000/svg\" height=\"24px\"viewBox=\"0 0 24 24\"\n",
              "     width=\"24px\">\n",
              "    <g>\n",
              "        <path d=\"M19 3H5c-1.1 0-2 .9-2 2v14c0 1.1.9 2 2 2h14c1.1 0 2-.9 2-2V5c0-1.1-.9-2-2-2zM9 17H7v-7h2v7zm4 0h-2V7h2v10zm4 0h-2v-4h2v4z\"/>\n",
              "    </g>\n",
              "</svg>\n",
              "  </button>\n",
              "\n",
              "<style>\n",
              "  .colab-df-quickchart {\n",
              "      --bg-color: #E8F0FE;\n",
              "      --fill-color: #1967D2;\n",
              "      --hover-bg-color: #E2EBFA;\n",
              "      --hover-fill-color: #174EA6;\n",
              "      --disabled-fill-color: #AAA;\n",
              "      --disabled-bg-color: #DDD;\n",
              "  }\n",
              "\n",
              "  [theme=dark] .colab-df-quickchart {\n",
              "      --bg-color: #3B4455;\n",
              "      --fill-color: #D2E3FC;\n",
              "      --hover-bg-color: #434B5C;\n",
              "      --hover-fill-color: #FFFFFF;\n",
              "      --disabled-bg-color: #3B4455;\n",
              "      --disabled-fill-color: #666;\n",
              "  }\n",
              "\n",
              "  .colab-df-quickchart {\n",
              "    background-color: var(--bg-color);\n",
              "    border: none;\n",
              "    border-radius: 50%;\n",
              "    cursor: pointer;\n",
              "    display: none;\n",
              "    fill: var(--fill-color);\n",
              "    height: 32px;\n",
              "    padding: 0;\n",
              "    width: 32px;\n",
              "  }\n",
              "\n",
              "  .colab-df-quickchart:hover {\n",
              "    background-color: var(--hover-bg-color);\n",
              "    box-shadow: 0 1px 2px rgba(60, 64, 67, 0.3), 0 1px 3px 1px rgba(60, 64, 67, 0.15);\n",
              "    fill: var(--button-hover-fill-color);\n",
              "  }\n",
              "\n",
              "  .colab-df-quickchart-complete:disabled,\n",
              "  .colab-df-quickchart-complete:disabled:hover {\n",
              "    background-color: var(--disabled-bg-color);\n",
              "    fill: var(--disabled-fill-color);\n",
              "    box-shadow: none;\n",
              "  }\n",
              "\n",
              "  .colab-df-spinner {\n",
              "    border: 2px solid var(--fill-color);\n",
              "    border-color: transparent;\n",
              "    border-bottom-color: var(--fill-color);\n",
              "    animation:\n",
              "      spin 1s steps(1) infinite;\n",
              "  }\n",
              "\n",
              "  @keyframes spin {\n",
              "    0% {\n",
              "      border-color: transparent;\n",
              "      border-bottom-color: var(--fill-color);\n",
              "      border-left-color: var(--fill-color);\n",
              "    }\n",
              "    20% {\n",
              "      border-color: transparent;\n",
              "      border-left-color: var(--fill-color);\n",
              "      border-top-color: var(--fill-color);\n",
              "    }\n",
              "    30% {\n",
              "      border-color: transparent;\n",
              "      border-left-color: var(--fill-color);\n",
              "      border-top-color: var(--fill-color);\n",
              "      border-right-color: var(--fill-color);\n",
              "    }\n",
              "    40% {\n",
              "      border-color: transparent;\n",
              "      border-right-color: var(--fill-color);\n",
              "      border-top-color: var(--fill-color);\n",
              "    }\n",
              "    60% {\n",
              "      border-color: transparent;\n",
              "      border-right-color: var(--fill-color);\n",
              "    }\n",
              "    80% {\n",
              "      border-color: transparent;\n",
              "      border-right-color: var(--fill-color);\n",
              "      border-bottom-color: var(--fill-color);\n",
              "    }\n",
              "    90% {\n",
              "      border-color: transparent;\n",
              "      border-bottom-color: var(--fill-color);\n",
              "    }\n",
              "  }\n",
              "</style>\n",
              "\n",
              "  <script>\n",
              "    async function quickchart(key) {\n",
              "      const quickchartButtonEl =\n",
              "        document.querySelector('#' + key + ' button');\n",
              "      quickchartButtonEl.disabled = true;  // To prevent multiple clicks.\n",
              "      quickchartButtonEl.classList.add('colab-df-spinner');\n",
              "      try {\n",
              "        const charts = await google.colab.kernel.invokeFunction(\n",
              "            'suggestCharts', [key], {});\n",
              "      } catch (error) {\n",
              "        console.error('Error during call to suggestCharts:', error);\n",
              "      }\n",
              "      quickchartButtonEl.classList.remove('colab-df-spinner');\n",
              "      quickchartButtonEl.classList.add('colab-df-quickchart-complete');\n",
              "    }\n",
              "    (() => {\n",
              "      let quickchartButtonEl =\n",
              "        document.querySelector('#df-65de2fb6-40c3-41d1-98a9-5ad242d57ea0 button');\n",
              "      quickchartButtonEl.style.display =\n",
              "        google.colab.kernel.accessAllowed ? 'block' : 'none';\n",
              "    })();\n",
              "  </script>\n",
              "</div>\n",
              "\n",
              "    </div>\n",
              "  </div>\n"
            ],
            "application/vnd.google.colaboratory.intrinsic+json": {
              "type": "dataframe",
              "variable_name": "casas_datos",
              "summary": "{\n  \"name\": \"casas_datos\",\n  \"rows\": 50,\n  \"fields\": [\n    {\n      \"column\": \"metros_cuadrados\",\n      \"properties\": {\n        \"dtype\": \"number\",\n        \"std\": 39,\n        \"min\": 61,\n        \"max\": 194,\n        \"num_unique_values\": 40,\n        \"samples\": [\n          132,\n          119,\n          118\n        ],\n        \"semantic_type\": \"\",\n        \"description\": \"\"\n      }\n    },\n    {\n      \"column\": \"precio\",\n      \"properties\": {\n        \"dtype\": \"number\",\n        \"std\": 56020,\n        \"min\": 181457,\n        \"max\": 409505,\n        \"num_unique_values\": 50,\n        \"samples\": [\n          259065,\n          342159,\n          330984\n        ],\n        \"semantic_type\": \"\",\n        \"description\": \"\"\n      }\n    }\n  ]\n}"
            }
          },
          "metadata": {},
          "execution_count": 2
        }
      ]
    },
    {
      "cell_type": "markdown",
      "source": [
        "### 2. Visualización de los datos"
      ],
      "metadata": {
        "id": "wqCKL9b7uj66"
      }
    },
    {
      "cell_type": "code",
      "execution_count": 3,
      "metadata": {
        "id": "iSX-go0owIUx",
        "colab": {
          "base_uri": "https://localhost:8080/",
          "height": 564
        },
        "outputId": "544d82cb-c01a-42b9-ffad-d5fdc934695a"
      },
      "source": [
        "# Graficamos los datos\n",
        "plt.figure(figsize=(10, 6))   # Configurar el tamaño de la figura (10 pulgadas × 6 pulgadas)\n",
        "\n",
        "# Generar un gráfico de dispersión (scatter plot) para ver la relación entre variables\n",
        "# Cada punto representa una vivienda, con sus metros cuadrados (eje X) y precio (eje Y)\n",
        "plt.scatter(casas_datos['metros_cuadrados'], casas_datos['precio'], color='blue')\n",
        "\n",
        "# Añadir título y etiquetas para hacer el gráfico más informativo\n",
        "plt.title('Metros Cuadrados vs Precio') # Título del gráfico\n",
        "plt.xlabel('Metros Cuadrados')  # Etiqueta del eje X\n",
        "plt.ylabel('Precio (€)')  # Etiqueta del eje Y con unidad monetaria\n",
        "plt.grid(True) # Añadir una cuadrícula\n",
        "plt.show() # Mostrar el gráfico en pantalla"
      ],
      "outputs": [
        {
          "output_type": "display_data",
          "data": {
            "text/plain": [
              "<Figure size 1000x600 with 1 Axes>"
            ],
            "image/png": "[encoded data removed]"
          },
          "metadata": {}
        }
      ]
    },
    {
      "cell_type": "markdown",
      "metadata": {
        "id": "cXNn8eluwIUx"
      },
      "source": [
        "## 3. Preparar los datos para el modelo"
      ]
    },
    {
      "cell_type": "code",
      "execution_count": 4,
      "metadata": {
        "id": "IXHl4logwIUx",
        "colab": {
          "base_uri": "https://localhost:8080/"
        },
        "outputId": "32074b9c-58bc-4769-82a2-a859f19cf032"
      },
      "source": [
        "# Separar características (X) y variable objetivo (y)\n",
        "X = casas_datos[['metros_cuadrados']]\n",
        "y = casas_datos['precio']\n",
        "\n",
        "# Dividir datos en entrenamiento y prueba: 80% para entrenar el modelo, 20% para evaluar su rendimiento\n",
        "X_train, X_test, y_train, y_test = train_test_split(X, y, test_size=0.2, random_state=42)\n",
        "\n",
        "print(f\"Datos de entrenamiento: {X_train.shape[0]} viviendas\")\n",
        "print(f\"Datos de prueba: {X_test.shape[0]} viviendas\")"
      ],
      "outputs": [
        {
          "output_type": "stream",
          "name": "stdout",
          "text": [
            "Datos de entrenamiento: 40 viviendas\n",
            "Datos de prueba: 10 viviendas\n"
          ]
        }
      ]
    },
    {
      "cell_type": "markdown",
      "metadata": {
        "id": "Ho8G8D8RwIUy"
      },
      "source": [
        "### 4. Crear y entrenar el modelo"
      ]
    },
    {
      "cell_type": "code",
      "execution_count": 5,
      "metadata": {
        "id": "u1Wb3birwIUy",
        "colab": {
          "base_uri": "https://localhost:8080/"
        },
        "outputId": "aa897be3-d68e-473c-9fee-4f9b237e871d"
      },
      "source": [
        "# Crear el modelo con una instancia del algoritmo de regresión Lineal\n",
        "modelo = LinearRegression()\n",
        "\n",
        "# Entrenar el modelo con los datos de entrenamiento\n",
        "modelo.fit(X_train, y_train)\n",
        "# Durante el entrenamiento, el algoritmo encuentra la pendiente e intercepto óptimos\n",
        "\n",
        "print(\"¡Modelo entrenado con éxito! -- LineraRegression Fitted\")"
      ],
      "outputs": [
        {
          "output_type": "stream",
          "name": "stdout",
          "text": [
            "¡Modelo entrenado con éxito! -- LineraRegression Fitted\n"
          ]
        }
      ]
    },
    {
      "cell_type": "markdown",
      "metadata": {
        "id": "UwU38SFWwIUz"
      },
      "source": [
        "### 5. Evaluar el modelo"
      ]
    },
    {
      "cell_type": "code",
      "execution_count": 6,
      "metadata": {
        "id": "zwipFqbpwIUz",
        "colab": {
          "base_uri": "https://localhost:8080/"
        },
        "outputId": "50d4ca04-9200-4acf-a7da-2b8df5aa4b17"
      },
      "source": [
        "# Generar predicciones para evaluar el rendimiento\n",
        "y_train_predict = modelo.predict(X_train)\n",
        "y_test_predict = modelo.predict(X_test)\n",
        "\n",
        "# Calcular el error de nuestras predicciones\n",
        "'''\n",
        "El Error Cuadrático Medio (en inglés MSE=Mean Sqaure Error) mide la diferencia promedio entre\n",
        "las predicciones y los valores reales. Un valor menor indica predicciones más precisas.\n",
        "'''\n",
        "train_mse = mean_squared_error(y_train, y_train_predict)\n",
        "test_mse = mean_squared_error(y_test, y_test_predict)\n",
        "\n",
        "print(f\"Error cuadrático medio - MSE (entrenamiento): {train_mse:.2f}\")\n",
        "print(f\"Error cuadrático medio - MSE (prueba): {test_mse:.2f}\")\n"
      ],
      "outputs": [
        {
          "output_type": "stream",
          "name": "stdout",
          "text": [
            "Error cuadrático medio - MSE (entrenamiento): 508366987.94\n",
            "Error cuadrático medio - MSE (prueba): 515620257.30\n"
          ]
        }
      ]
    },
    {
      "cell_type": "markdown",
      "metadata": {
        "id": "P9P3onexwIUz"
      },
      "source": [
        "### 6. Visualizar el modelo"
      ]
    },
    {
      "cell_type": "code",
      "execution_count": 7,
      "metadata": {
        "id": "-mxwRQFjwIUz",
        "colab": {
          "base_uri": "https://localhost:8080/",
          "height": 621
        },
        "outputId": "b11c054c-8fa4-47a1-f23d-9ae4dda7240d"
      },
      "source": [
        "# Visualizar los resultados\n",
        "plt.figure(figsize=(10, 6))\n",
        "\n",
        "# Dibujar los puntos de datos reales\n",
        "plt.scatter(X_train, y_train, color='green', label='Entrenamiento')\n",
        "plt.scatter(X_test, y_test, color='orange', label='Prueba')\n",
        "\n",
        "# Dibujar la línea de regresión\n",
        "x_min = X['metros_cuadrados'].min()\n",
        "x_max = X['metros_cuadrados'].max()\n",
        "x_line = np.array([[x_min], [x_max]])\n",
        "y_line = modelo.predict(x_line)\n",
        "\n",
        "plt.plot(x_line, y_line, color='blue', label='Línea de regresión')\n",
        "\n",
        "plt.title('Regresión Lineal: Metros Cuadrados vs Precio')\n",
        "plt.xlabel('Metros Cuadrados')\n",
        "plt.ylabel('Precio en euros')\n",
        "plt.legend()\n",
        "plt.grid(True)\n",
        "plt.show()"
      ],
      "outputs": [
        {
          "output_type": "stream",
          "name": "stderr",
          "text": [
            "/usr/local/lib/python3.11/dist-packages/sklearn/utils/validation.py:2739: UserWarning: X does not have valid feature names, but LinearRegression was fitted with feature names\n",
            "  warnings.warn(\n"
          ]
        },
        {
          "output_type": "display_data",
          "data": {
            "text/plain": [
              "<Figure size 1000x600 with 1 Axes>"
            ],
            "image/png": "[encoded data removed]"
          },
          "metadata": {}
        }
      ]
    }
  ],
  "metadata": {
    "kernelspec": {
      "display_name": "Python 3",
      "language": "python",
      "name": "python3"
    },
    "language_info": {
      "codemirror_mode": {
        "name": "ipython",
        "version": 3
      },
      "file_extension": ".py",
      "mimetype": "text/x-python",
      "name": "python",
      "nbconvert_exporter": "python",
      "pygments_lexer": "ipython3",
      "version": "3.8.10"
    },
    "colab": {
      "provenance": [],
      "include_colab_link": true
    }
  },
  "nbformat": 4,
  "nbformat_minor": 0
}